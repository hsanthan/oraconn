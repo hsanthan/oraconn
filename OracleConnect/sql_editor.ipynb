{
 "cells": [
  {
   "cell_type": "markdown",
   "metadata": {
    "id": "d0003b20953c468c80cb692b3498cd8e"
   },
   "source": [
    "### Connect to the Database and Open SQL Editor"
   ]
  },
  {
   "cell_type": "code",
   "execution_count": 1,
   "metadata": {
    "id": "58d0b11b5cd1473282d141c4edeb4fca",
    "tags": []
   },
   "outputs": [
    {
     "name": "stdout",
     "output_type": "stream",
     "text": [
      "\u001b[H\u001b[2J"
     ]
    },
    {
     "name": "stdin",
     "output_type": "stream",
     "text": [
      "Hostname:  pederast1.fyre.ibm.com\n",
      "Database/SID name:  pdb1\n",
      "Username:  hr\n",
      "Password:  ·······\n"
     ]
    },
    {
     "data": {
      "application/vnd.jupyter.widget-view+json": {
       "model_id": "58861ca6d95645f2b30839d51a55ee08",
       "version_major": 2,
       "version_minor": 0
      },
      "text/plain": [
       "Button(description='Connect', style=ButtonStyle())"
      ]
     },
     "metadata": {},
     "output_type": "display_data"
    },
    {
     "data": {
      "application/vnd.jupyter.widget-view+json": {
       "model_id": "518c5afd38464e0eadaabd93a95278b2",
       "version_major": 2,
       "version_minor": 0
      },
      "text/plain": [
       "Output()"
      ]
     },
     "metadata": {},
     "output_type": "display_data"
    }
   ],
   "source": [
    "from IPython.display import clear_output\n",
    "from utils.db_utils import db_util\n",
    "%clear\n",
    "dbc = db_util()"
   ]
  },
  {
   "cell_type": "code",
   "execution_count": 11,
   "metadata": {
    "id": "fdc6103e-a2d7-4ca3-ab0d-a3ad1d801716",
    "tags": []
   },
   "outputs": [
    {
     "data": {
      "text/plain": [
       "<bound method AssetBrowserABC.get_stored_data of <ibm_watson_studio_lib.impl.asset_browser.AssetBrowser object at 0x7ff80423eee0>>"
      ]
     },
     "execution_count": 11,
     "metadata": {},
     "output_type": "execute_result"
    }
   ],
   "source": [
    "wslib.assets.get_stored_data"
   ]
  },
  {
   "cell_type": "code",
   "execution_count": 12,
   "metadata": {
    "id": "368d660d-1c23-4e79-a551-ea32f10dc738",
    "tags": []
   },
   "outputs": [
    {
     "data": {
      "text/plain": [
       "{'name': 'my_asset_name.csv',\n",
       " 'asset_type': 'data_asset',\n",
       " 'asset_id': 'data_asset.myassetnamecsv',\n",
       " 'attachment_id': '7f6f08b0-6234-424c-87dc-7c7b2a76f481',\n",
       " 'filepath': 'my_asset_name.csv',\n",
       " 'data_size': None,\n",
       " 'mime': 'text/csv',\n",
       " 'summary': ['created file', 'created data asset', 'created attachment']}"
      ]
     },
     "execution_count": 12,
     "metadata": {},
     "output_type": "execute_result"
    }
   ],
   "source": [
    "wslib.save_data(\"my_asset_name.csv\", df.to_csv(index=False).encode())"
   ]
  },
  {
   "cell_type": "code",
   "execution_count": null,
   "metadata": {
    "id": "d15d9c34-a0b1-4074-82b1-5e86b8415027"
   },
   "outputs": [],
   "source": []
  }
 ],
 "metadata": {
  "kernelspec": {
   "display_name": "Python 3.8",
   "language": "python",
   "name": "python3"
  },
  "language_info": {
   "codemirror_mode": {
    "name": "ipython",
    "version": 3
   },
   "file_extension": ".py",
   "mimetype": "text/x-python",
   "name": "python",
   "nbconvert_exporter": "python",
   "pygments_lexer": "ipython3",
   "version": "3.8.11"
  }
 },
 "nbformat": 4,
 "nbformat_minor": 4
}
