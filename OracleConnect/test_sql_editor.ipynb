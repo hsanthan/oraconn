{
 "cells": [
  {
   "metadata": {
    "id": "58d0b11b5cd1473282d141c4edeb4fca"
   },
   "cell_type": "code",
   "source": [
    "from IPython.display import clear_output\n",
    "from sql_editor_proj.db_crud84 import db_util as dbu\n",
    "from utils.db_utils import db_util\n",
    "\n"
   ],
   "execution_count": 116,
   "outputs": []
  },
  {
   "metadata": {
    "id": "d0003b20953c468c80cb692b3498cd8e"
   },
   "cell_type": "markdown",
   "source": "Provide the details and connect to the Database"
  },
  {
   "metadata": {
    "id": "565f9e0a52004882891768c3a34b6fc6"
   },
   "cell_type": "code",
   "source": "%clear\ndbc = db_util()\n",
   "execution_count": 117,
   "outputs": [
    {
     "output_type": "stream",
     "text": "\u001B[H\u001B[2JHostname: pederast1.fyre.ibm.com\nDatabase/SID name: pdb1\nUsername: hr\nPassword: ········\n",
     "name": "stdout"
    },
    {
     "output_type": "display_data",
     "data": {
      "text/plain": "Button(description='Connect', style=ButtonStyle())",
      "application/vnd.jupyter.widget-view+json": {
       "version_major": 2,
       "version_minor": 0,
       "model_id": "f2725fba4090479a83f822cb1cc50a5a"
      }
     },
     "metadata": {}
    },
    {
     "output_type": "display_data",
     "data": {
      "text/plain": "Output()",
      "application/vnd.jupyter.widget-view+json": {
       "version_major": 2,
       "version_minor": 0,
       "model_id": "e216714e5f784553ba5fc9b1231c8d45"
      }
     },
     "metadata": {}
    },
    {
     "output_type": "error",
     "ename": "NameError",
     "evalue": "name 'out' is not defined",
     "traceback": [
      "\u001B[0;31m---------------------------------------------------------------------------\u001B[0m",
      "\u001B[0;31mNameError\u001B[0m                                 Traceback (most recent call last)",
      "\u001B[0;32m<ipython-input-117-80996adaeffa>\u001B[0m in \u001B[0;36m<module>\u001B[0;34m\u001B[0m\n\u001B[1;32m      1\u001B[0m \u001B[0mget_ipython\u001B[0m\u001B[0;34m(\u001B[0m\u001B[0;34m)\u001B[0m\u001B[0;34m.\u001B[0m\u001B[0mrun_line_magic\u001B[0m\u001B[0;34m(\u001B[0m\u001B[0;34m'clear'\u001B[0m\u001B[0;34m,\u001B[0m \u001B[0;34m''\u001B[0m\u001B[0;34m)\u001B[0m\u001B[0;34m\u001B[0m\u001B[0;34m\u001B[0m\u001B[0m\n\u001B[0;32m----> 2\u001B[0;31m \u001B[0mdbc\u001B[0m \u001B[0;34m=\u001B[0m \u001B[0mdb_util\u001B[0m\u001B[0;34m(\u001B[0m\u001B[0;34m)\u001B[0m\u001B[0;34m\u001B[0m\u001B[0;34m\u001B[0m\u001B[0m\n\u001B[0m",
      "\u001B[0;32m~/work/sql_editor_proj/db_crud84.py\u001B[0m in \u001B[0;36m__init__\u001B[0;34m(self)\u001B[0m\n\u001B[1;32m     21\u001B[0m         \u001B[0mdisplay\u001B[0m\u001B[0;34m(\u001B[0m\u001B[0mself\u001B[0m\u001B[0;34m.\u001B[0m\u001B[0mbtn_db_conn\u001B[0m\u001B[0;34m,\u001B[0m \u001B[0moutput\u001B[0m\u001B[0;34m)\u001B[0m\u001B[0;34m\u001B[0m\u001B[0;34m\u001B[0m\u001B[0m\n\u001B[1;32m     22\u001B[0m \u001B[0;34m\u001B[0m\u001B[0m\n\u001B[0;32m---> 23\u001B[0;31m         \u001B[0;34m@\u001B[0m\u001B[0mout\u001B[0m\u001B[0;34m.\u001B[0m\u001B[0mcapture\u001B[0m\u001B[0;34m(\u001B[0m\u001B[0mclear_output\u001B[0m\u001B[0;34m=\u001B[0m\u001B[0;32mTrue\u001B[0m\u001B[0;34m)\u001B[0m\u001B[0;34m\u001B[0m\u001B[0;34m\u001B[0m\u001B[0m\n\u001B[0m\u001B[1;32m     24\u001B[0m         \u001B[0;32mdef\u001B[0m \u001B[0mon_button_clicked\u001B[0m\u001B[0;34m(\u001B[0m\u001B[0mb\u001B[0m\u001B[0;34m)\u001B[0m\u001B[0;34m:\u001B[0m\u001B[0;34m\u001B[0m\u001B[0;34m\u001B[0m\u001B[0m\n\u001B[1;32m     25\u001B[0m             \u001B[0;32mwith\u001B[0m \u001B[0moutput\u001B[0m\u001B[0;34m:\u001B[0m\u001B[0;34m\u001B[0m\u001B[0;34m\u001B[0m\u001B[0m\n",
      "\u001B[0;31mNameError\u001B[0m: name 'out' is not defined"
     ]
    }
   ]
  },
  {
   "metadata": {
    "id": "b443fe832dfd420c99a1011a677ca6ec"
   },
   "cell_type": "markdown",
   "source": "Your SQL Query"
  },
  {
   "metadata": {
    "id": "036e3e3159fa42f4bbfb0c7890d6151d"
   },
   "cell_type": "code",
   "source": "%clear\ndbc.run_sql_query()\n",
   "execution_count": 115,
   "outputs": [
    {
     "output_type": "stream",
     "text": "\u001B[H\u001B[2J",
     "name": "stdout"
    },
    {
     "output_type": "display_data",
     "data": {
      "text/plain": "Textarea(value='', description='String:', placeholder='Type your query here')",
      "application/vnd.jupyter.widget-view+json": {
       "version_major": 2,
       "version_minor": 0,
       "model_id": "08717a83b5fb4c2c95033621b2b27850"
      }
     },
     "metadata": {}
    },
    {
     "output_type": "display_data",
     "data": {
      "text/plain": "Button(description='Run query', style=ButtonStyle())",
      "application/vnd.jupyter.widget-view+json": {
       "version_major": 2,
       "version_minor": 0,
       "model_id": "3082e5d439f84e4c8698bcb02147eb5a"
      }
     },
     "metadata": {}
    },
    {
     "output_type": "display_data",
     "data": {
      "text/plain": "Output()",
      "application/vnd.jupyter.widget-view+json": {
       "version_major": 2,
       "version_minor": 0,
       "model_id": "ad517ee8ebbf4c61914e279dd5b32c5b"
      }
     },
     "metadata": {}
    }
   ]
  },
  {
   "metadata": {
    "id": "bdf7c8d379184c8abc11c81ac3449d66"
   },
   "cell_type": "code",
   "source": "#!pip install ipython-sql",
   "execution_count": 104,
   "outputs": []
  },
  {
   "metadata": {
    "id": "941a7e20d7064e7b80a6daf0aa8e864c"
   },
   "cell_type": "code",
   "source": "#%load_ext sql",
   "execution_count": 105,
   "outputs": []
  },
  {
   "metadata": {
    "id": "998bb2833437465bb74b5de642e4613f"
   },
   "cell_type": "code",
   "source": "#%sql sqlite://",
   "execution_count": 33,
   "outputs": []
  }
 ],
 "metadata": {
  "kernelspec": {
   "name": "python3",
   "display_name": "Python 3.8",
   "language": "python"
  },
  "language_info": {
   "name": "python",
   "version": "3.8.11",
   "mimetype": "text/x-python",
   "codemirror_mode": {
    "name": "ipython",
    "version": 3
   },
   "pygments_lexer": "ipython3",
   "nbconvert_exporter": "python",
   "file_extension": ".py"
  }
 },
 "nbformat": 4,
 "nbformat_minor": 1
}